{
 "cells": [
  {
   "cell_type": "code",
   "execution_count": 4,
   "metadata": {},
   "outputs": [
    {
     "data": {
      "text/plain": [
       "<torch._C.Generator at 0x11ad06290>"
      ]
     },
     "execution_count": 4,
     "metadata": {},
     "output_type": "execute_result"
    }
   ],
   "source": [
    "%matplotlib inline\n",
    "# import some dependencies\n",
    "import numpy as np\n",
    "import matplotlib.pyplot as plt\n",
    "try:\n",
    "    import seaborn as sns\n",
    "    sns.set()\n",
    "except ImportError:\n",
    "    pass\n",
    "\n",
    "import torch\n",
    "from torch.autograd import Variable\n",
    "\n",
    "import pyro\n",
    "import pyro.infer\n",
    "import pyro.optim\n",
    "import pyro.distributions as dist\n",
    "\n",
    "torch.manual_seed(101)"
   ]
  },
  {
   "cell_type": "code",
   "execution_count": 6,
   "metadata": {},
   "outputs": [],
   "source": [
    "def model():\n",
    "    mu = pyro.sample(\"mu\", dist.normal, Variable(torch.zeros(1)), Variable(torch.ones(1)))\n",
    "    return pyro.sample(\"x\", dist.normal, mu, Variable(torch.ones(1)))\n",
    "\n",
    "def guide():\n",
    "    mu_param = pyro.param(\"mu_param\", Variable(torch.randn(1), requires_grad=True))\n",
    "    return pyro.sample(\"mu\", dist.delta, mu_param)\n",
    "\n",
    "# # use pyro.condition to constrain model sample site \"x\" to be equal to some fixed observed data\n",
    "# conditioned_model = pyro.condition(model, data={\"x\": data})\n",
    "\n",
    "# svi = pyro.infer.SVI(model=conditioned_model,\n",
    "#                      guide=guide,\n",
    "#                      optim=pyro.optim.SGD({\"lr\": 0.001}),\n",
    "#                      loss=\"ELBO\")\n",
    "\n",
    "# losses = []\n",
    "# for t in range(1000):\n",
    "#     # svi.step is called with whatever arguments model and guide take - in this case, nothing\n",
    "#     losses.append(svi.step())\n",
    "\n",
    "# # to get the value of mu, just call guide\n",
    "# mu_final = guide()"
   ]
  },
  {
   "cell_type": "code",
   "execution_count": 7,
   "metadata": {},
   "outputs": [
    {
     "data": {
      "text/plain": [
       "Variable containing:\n",
       "-2.2057\n",
       "[torch.FloatTensor of size 1]"
      ]
     },
     "execution_count": 7,
     "metadata": {},
     "output_type": "execute_result"
    }
   ],
   "source": [
    "model()"
   ]
  },
  {
   "cell_type": "code",
   "execution_count": 8,
   "metadata": {},
   "outputs": [
    {
     "data": {
      "text/plain": [
       "Variable containing:\n",
       "-0.3204\n",
       "[torch.FloatTensor of size 1]"
      ]
     },
     "execution_count": 8,
     "metadata": {},
     "output_type": "execute_result"
    }
   ],
   "source": [
    "guide()"
   ]
  },
  {
   "cell_type": "code",
   "execution_count": null,
   "metadata": {
    "collapsed": true
   },
   "outputs": [],
   "source": []
  }
 ],
 "metadata": {
  "kernelspec": {
   "display_name": "Python 3",
   "language": "python",
   "name": "python3"
  },
  "language_info": {
   "codemirror_mode": {
    "name": "ipython",
    "version": 3
   },
   "file_extension": ".py",
   "mimetype": "text/x-python",
   "name": "python",
   "nbconvert_exporter": "python",
   "pygments_lexer": "ipython3",
   "version": "3.6.2"
  }
 },
 "nbformat": 4,
 "nbformat_minor": 2
}
